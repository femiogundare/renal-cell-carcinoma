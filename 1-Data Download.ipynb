{
  "nbformat": 4,
  "nbformat_minor": 0,
  "metadata": {
    "colab": {
      "provenance": [],
      "machine_shape": "hm"
    },
    "kernelspec": {
      "name": "ir",
      "display_name": "R"
    },
    "language_info": {
      "name": "R"
    }
  },
  "cells": [
    {
      "cell_type": "code",
      "execution_count": 1,
      "metadata": {
        "colab": {
          "base_uri": "https://localhost:8080/"
        },
        "id": "LEsax9-YZuQZ",
        "outputId": "85438aa8-1034-4d0c-d319-fc7860c1b26a"
      },
      "outputs": [
        {
          "output_type": "stream",
          "name": "stderr",
          "text": [
            "Installing package into ‘/usr/local/lib/R/site-library’\n",
            "(as ‘lib’ is unspecified)\n",
            "\n",
            "Installing package into ‘/usr/local/lib/R/site-library’\n",
            "(as ‘lib’ is unspecified)\n",
            "\n",
            "also installing the dependencies ‘later’, ‘Rcpp’, ‘lazyeval’, ‘htmlwidgets’, ‘httpuv’, ‘crosstalk’, ‘promises’\n",
            "\n",
            "\n",
            "Installing package into ‘/usr/local/lib/R/site-library’\n",
            "(as ‘lib’ is unspecified)\n",
            "\n",
            "Installing package into ‘/usr/local/lib/R/site-library’\n",
            "(as ‘lib’ is unspecified)\n",
            "\n",
            "also installing the dependencies ‘SparseM’, ‘MatrixModels’, ‘minqa’, ‘nloptr’, ‘RcppEigen’, ‘carData’, ‘abind’, ‘pbkrtest’, ‘quantreg’, ‘lme4’, ‘estimability’, ‘numDeriv’, ‘mvtnorm’, ‘car’, ‘ellipse’, ‘emmeans’, ‘flashClust’, ‘leaps’, ‘multcompView’, ‘scatterplot3d’, ‘ggrepel’\n",
            "\n",
            "\n",
            "'getOption(\"repos\")' replaces Bioconductor standard repositories, see\n",
            "'help(\"repositories\", package = \"BiocManager\")' for details.\n",
            "Replacement repositories:\n",
            "    CRAN: https://cran.rstudio.com\n",
            "\n",
            "Bioconductor version 3.18 (BiocManager 1.30.22), R 4.3.2 (2023-10-31)\n",
            "\n",
            "Installing package(s) 'BiocVersion', 'GenomeInfoDbData'\n",
            "\n",
            "Old packages: 'bit', 'bslib', 'cpp11', 'curl', 'data.table', 'devtools',\n",
            "  'fansi', 'gargle', 'gert', 'haven', 'highr', 'isoband', 'jsonlite',\n",
            "  'openssl', 'progress', 'ragg', 'roxygen2', 'sass', 'scales', 'svglite',\n",
            "  'testthat', 'textshaping', 'vctrs', 'vroom', 'whisker', 'xml2', 'boot',\n",
            "  'cluster', 'Matrix', 'nlme', 'rpart'\n",
            "\n",
            "'getOption(\"repos\")' replaces Bioconductor standard repositories, see\n",
            "'help(\"repositories\", package = \"BiocManager\")' for details.\n",
            "Replacement repositories:\n",
            "    CRAN: https://cran.rstudio.com\n",
            "\n",
            "Bioconductor version 3.18 (BiocManager 1.30.22), R 4.3.2 (2023-10-31)\n",
            "\n",
            "Warning message:\n",
            "“package(s) not installed when version(s) same as or greater than current; use\n",
            "  `force = TRUE` to re-install: 'remotes'”\n",
            "Old packages: 'bit', 'bslib', 'cpp11', 'curl', 'data.table', 'devtools',\n",
            "  'fansi', 'gargle', 'gert', 'haven', 'highr', 'isoband', 'jsonlite',\n",
            "  'openssl', 'progress', 'ragg', 'roxygen2', 'sass', 'scales', 'svglite',\n",
            "  'testthat', 'textshaping', 'vctrs', 'vroom', 'whisker', 'xml2', 'boot',\n",
            "  'cluster', 'Matrix', 'nlme', 'rpart'\n",
            "\n",
            "'getOption(\"repos\")' replaces Bioconductor standard repositories, see\n",
            "'help(\"repositories\", package = \"BiocManager\")' for details.\n",
            "Replacement repositories:\n",
            "    CRAN: https://cran.rstudio.com\n",
            "\n",
            "Bioconductor version 3.18 (BiocManager 1.30.22), R 4.3.2 (2023-10-31)\n",
            "\n",
            "Installing github package(s) 'BioinformaticsFMRP/TCGAbiolinksGUI.data'\n",
            "\n",
            "Downloading GitHub repo BioinformaticsFMRP/TCGAbiolinksGUI.data@HEAD\n",
            "\n"
          ]
        },
        {
          "output_type": "stream",
          "name": "stdout",
          "text": [
            "\u001b[36m──\u001b[39m \u001b[36mR CMD build\u001b[39m \u001b[36m─────────────────────────────────────────────────────────────────\u001b[39m\n",
            "* checking for file ‘/tmp/RtmppUQUMA/remotes16c6bd25a27/BioinformaticsFMRP-TCGAbiolinksGUI.data-fb9e749/DESCRIPTION’ ... OK\n",
            "* preparing ‘TCGAbiolinksGUI.data’:\n",
            "* checking DESCRIPTION meta-information ... OK\n",
            "* checking for LF line-endings in source and make files and shell scripts\n",
            "* checking for empty or unneeded directories\n",
            "* looking to see if a ‘data/datalist’ file should be added\n",
            "* building ‘TCGAbiolinksGUI.data_1.15.1.tar.gz’\n",
            "\n"
          ]
        },
        {
          "output_type": "stream",
          "name": "stderr",
          "text": [
            "Old packages: 'TCGAbiolinksGUI.data', 'bit', 'bslib', 'cpp11', 'curl',\n",
            "  'data.table', 'devtools', 'fansi', 'gargle', 'gert', 'haven', 'highr',\n",
            "  'isoband', 'jsonlite', 'openssl', 'progress', 'ragg', 'roxygen2', 'sass',\n",
            "  'scales', 'svglite', 'testthat', 'textshaping', 'vctrs', 'vroom', 'whisker',\n",
            "  'xml2', 'boot', 'cluster', 'Matrix', 'nlme', 'rpart'\n",
            "\n",
            "'getOption(\"repos\")' replaces Bioconductor standard repositories, see\n",
            "'help(\"repositories\", package = \"BiocManager\")' for details.\n",
            "Replacement repositories:\n",
            "    CRAN: https://cran.rstudio.com\n",
            "\n",
            "Bioconductor version 3.18 (BiocManager 1.30.22), R 4.3.2 (2023-10-31)\n",
            "\n",
            "Installing package(s) 'ExperimentHub'\n",
            "\n",
            "also installing the dependencies ‘bitops’, ‘zlibbioc’, ‘RCurl’, ‘XVector’, ‘GenomeInfoDb’, ‘png’, ‘Biostrings’, ‘xtable’, ‘sourcetools’, ‘plogr’, ‘Biobase’, ‘IRanges’, ‘KEGGREST’, ‘shiny’, ‘RSQLite’, ‘AnnotationDbi’, ‘interactiveDisplayBase’, ‘filelock’, ‘BiocGenerics’, ‘AnnotationHub’, ‘BiocFileCache’, ‘S4Vectors’\n",
            "\n",
            "\n",
            "Old packages: 'TCGAbiolinksGUI.data', 'bit', 'bslib', 'cpp11', 'curl',\n",
            "  'data.table', 'devtools', 'fansi', 'gargle', 'gert', 'haven', 'highr',\n",
            "  'isoband', 'jsonlite', 'openssl', 'progress', 'ragg', 'roxygen2', 'sass',\n",
            "  'scales', 'svglite', 'testthat', 'textshaping', 'vctrs', 'vroom', 'whisker',\n",
            "  'xml2', 'boot', 'cluster', 'Matrix', 'nlme', 'rpart'\n",
            "\n",
            "'getOption(\"repos\")' replaces Bioconductor standard repositories, see\n",
            "'help(\"repositories\", package = \"BiocManager\")' for details.\n",
            "Replacement repositories:\n",
            "    CRAN: https://cran.rstudio.com\n",
            "\n",
            "Bioconductor version 3.18 (BiocManager 1.30.22), R 4.3.2 (2023-10-31)\n",
            "\n",
            "Installing github package(s) 'BioinformaticsFMRP/TCGAbiolinks'\n",
            "\n",
            "Downloading GitHub repo BioinformaticsFMRP/TCGAbiolinks@HEAD\n",
            "\n"
          ]
        },
        {
          "output_type": "stream",
          "name": "stdout",
          "text": [
            "vctrs        (0.6.4  -> 0.6.5    ) [CRAN]\n",
            "fansi        (1.0.5  -> 1.0.6    ) [CRAN]\n",
            "cpp11        (0.4.6  -> 0.4.7    ) [CRAN]\n",
            "bit          (4.0.4  -> 4.0.5    ) [CRAN]\n",
            "progress     (1.2.2  -> 1.2.3    ) [CRAN]\n",
            "matrixStats  (NA     -> 1.1.0    ) [CRAN]\n",
            "SparseArray  (NA     -> 1.2.2    ) [CRAN]\n",
            "S4Arrays     (NA     -> 1.2.0    ) [CRAN]\n",
            "MatrixGen... (NA     -> 1.14.0   ) [CRAN]\n",
            "R.methodsS3  (NA     -> 1.8.2    ) [CRAN]\n",
            "openssl      (2.0.6  -> 2.1.1    ) [CRAN]\n",
            "jsonlite     (1.8.7  -> 1.8.8    ) [CRAN]\n",
            "curl         (5.0.2  -> 5.2.0    ) [CRAN]\n",
            "vroom        (1.6.4  -> 1.6.5    ) [CRAN]\n",
            "DelayedArray (NA     -> 0.28.0   ) [CRAN]\n",
            "GenomicRa... (NA     -> 1.54.1   ) [CRAN]\n",
            "R.oo         (NA     -> 1.25.0   ) [CRAN]\n",
            "xml2         (1.3.5  -> 1.3.6    ) [CRAN]\n",
            "scales       (1.2.1  -> 1.3.0    ) [CRAN]\n",
            "isoband      (0.2.6  -> 0.2.7    ) [CRAN]\n",
            "highr        (0.9    -> 0.10     ) [CRAN]\n",
            "XML          (NA     -> 3.99-0.16) [CRAN]\n",
            "Summarize... (NA     -> 1.32.0   ) [CRAN]\n",
            "R.utils      (NA     -> 2.12.3   ) [CRAN]\n",
            "plyr         (NA     -> 1.8.9    ) [CRAN]\n",
            "data.table   (1.14.8 -> 1.14.10  ) [CRAN]\n",
            "biomaRt      (NA     -> 2.58.0   ) [CRAN]\n",
            "downloader   (NA     -> 0.4      ) [CRAN]\n"
          ]
        },
        {
          "output_type": "stream",
          "name": "stderr",
          "text": [
            "Installing 28 packages: vctrs, fansi, cpp11, bit, progress, matrixStats, SparseArray, S4Arrays, MatrixGenerics, R.methodsS3, openssl, jsonlite, curl, vroom, DelayedArray, GenomicRanges, R.oo, xml2, scales, isoband, highr, XML, SummarizedExperiment, R.utils, plyr, data.table, biomaRt, downloader\n",
            "\n"
          ]
        },
        {
          "output_type": "stream",
          "name": "stdout",
          "text": [
            "\u001b[36m──\u001b[39m \u001b[36mR CMD build\u001b[39m \u001b[36m─────────────────────────────────────────────────────────────────\u001b[39m\n",
            "* checking for file ‘/tmp/RtmppUQUMA/remotes16c7c317c55/BioinformaticsFMRP-TCGAbiolinks-3598148/DESCRIPTION’ ... OK\n",
            "* preparing ‘TCGAbiolinks’:\n",
            "* checking DESCRIPTION meta-information ... OK\n",
            "* checking for LF line-endings in source and make files and shell scripts\n",
            "* checking for empty or unneeded directories\n",
            "* building ‘TCGAbiolinks_2.31.2.tar.gz’\n",
            "\n"
          ]
        },
        {
          "output_type": "stream",
          "name": "stderr",
          "text": [
            "Old packages: 'TCGAbiolinksGUI.data', 'bit', 'bslib', 'cpp11', 'curl',\n",
            "  'data.table', 'devtools', 'fansi', 'gargle', 'gert', 'haven', 'highr',\n",
            "  'isoband', 'jsonlite', 'openssl', 'progress', 'ragg', 'roxygen2', 'sass',\n",
            "  'scales', 'svglite', 'testthat', 'textshaping', 'vctrs', 'vroom', 'whisker',\n",
            "  'xml2', 'boot', 'cluster', 'Matrix', 'nlme', 'rpart'\n",
            "\n",
            "'getOption(\"repos\")' replaces Bioconductor standard repositories, see\n",
            "'help(\"repositories\", package = \"BiocManager\")' for details.\n",
            "Replacement repositories:\n",
            "    CRAN: https://cran.rstudio.com\n",
            "\n",
            "Bioconductor version 3.18 (BiocManager 1.30.22), R 4.3.2 (2023-10-31)\n",
            "\n",
            "Installing package(s) 'limma'\n",
            "\n",
            "also installing the dependency ‘statmod’\n",
            "\n",
            "\n",
            "Old packages: 'TCGAbiolinksGUI.data', 'bit', 'bslib', 'cpp11', 'curl',\n",
            "  'data.table', 'devtools', 'fansi', 'gargle', 'gert', 'haven', 'highr',\n",
            "  'isoband', 'jsonlite', 'openssl', 'progress', 'ragg', 'roxygen2', 'sass',\n",
            "  'scales', 'svglite', 'testthat', 'textshaping', 'vctrs', 'vroom', 'whisker',\n",
            "  'xml2', 'boot', 'cluster', 'Matrix', 'nlme', 'rpart'\n",
            "\n",
            "'getOption(\"repos\")' replaces Bioconductor standard repositories, see\n",
            "'help(\"repositories\", package = \"BiocManager\")' for details.\n",
            "Replacement repositories:\n",
            "    CRAN: https://cran.rstudio.com\n",
            "\n",
            "Bioconductor version 3.18 (BiocManager 1.30.22), R 4.3.2 (2023-10-31)\n",
            "\n",
            "Installing package(s) 'edgeR'\n",
            "\n",
            "also installing the dependency ‘locfit’\n",
            "\n",
            "\n",
            "Old packages: 'TCGAbiolinksGUI.data', 'bit', 'bslib', 'cpp11', 'curl',\n",
            "  'data.table', 'devtools', 'fansi', 'gargle', 'gert', 'haven', 'highr',\n",
            "  'isoband', 'jsonlite', 'openssl', 'progress', 'ragg', 'roxygen2', 'sass',\n",
            "  'scales', 'svglite', 'testthat', 'textshaping', 'vctrs', 'vroom', 'whisker',\n",
            "  'xml2', 'boot', 'cluster', 'Matrix', 'nlme', 'rpart'\n",
            "\n"
          ]
        }
      ],
      "source": [
        "install.packages(\"BiocManager\")\n",
        "install.packages('DT')\n",
        "install.packages(\"pheatmap\")\n",
        "install.packages(\"FactoMineR\")\n",
        "BiocManager::install(\"GenomeInfoDbData\", force = TRUE)\n",
        "BiocManager::install(\"remotes\")\n",
        "BiocManager::install(\"BioinformaticsFMRP/TCGAbiolinksGUI.data\")\n",
        "BiocManager::install(\"ExperimentHub\")\n",
        "BiocManager::install(\"BioinformaticsFMRP/TCGAbiolinks\")\n",
        "BiocManager::install(\"limma\")\n",
        "BiocManager::install(\"edgeR\")"
      ]
    },
    {
      "cell_type": "code",
      "source": [
        "library(BiocManager)\n",
        "library(TCGAbiolinks)\n",
        "library(SummarizedExperiment)\n",
        "library(dplyr)\n",
        "library(DT)\n",
        "library(pheatmap)\n",
        "library(limma)\n",
        "library(edgeR)"
      ],
      "metadata": {
        "colab": {
          "base_uri": "https://localhost:8080/"
        },
        "id": "TuAiWYy_aLCJ",
        "outputId": "e6ec9140-1967-4412-b18e-351e35f5a216"
      },
      "execution_count": 2,
      "outputs": [
        {
          "output_type": "stream",
          "name": "stderr",
          "text": [
            "Loading required package: MatrixGenerics\n",
            "\n",
            "Loading required package: matrixStats\n",
            "\n",
            "\n",
            "Attaching package: ‘MatrixGenerics’\n",
            "\n",
            "\n",
            "The following objects are masked from ‘package:matrixStats’:\n",
            "\n",
            "    colAlls, colAnyNAs, colAnys, colAvgsPerRowSet, colCollapse,\n",
            "    colCounts, colCummaxs, colCummins, colCumprods, colCumsums,\n",
            "    colDiffs, colIQRDiffs, colIQRs, colLogSumExps, colMadDiffs,\n",
            "    colMads, colMaxs, colMeans2, colMedians, colMins, colOrderStats,\n",
            "    colProds, colQuantiles, colRanges, colRanks, colSdDiffs, colSds,\n",
            "    colSums2, colTabulates, colVarDiffs, colVars, colWeightedMads,\n",
            "    colWeightedMeans, colWeightedMedians, colWeightedSds,\n",
            "    colWeightedVars, rowAlls, rowAnyNAs, rowAnys, rowAvgsPerColSet,\n",
            "    rowCollapse, rowCounts, rowCummaxs, rowCummins, rowCumprods,\n",
            "    rowCumsums, rowDiffs, rowIQRDiffs, rowIQRs, rowLogSumExps,\n",
            "    rowMadDiffs, rowMads, rowMaxs, rowMeans2, rowMedians, rowMins,\n",
            "    rowOrderStats, rowProds, rowQuantiles, rowRanges, rowRanks,\n",
            "    rowSdDiffs, rowSds, rowSums2, rowTabulates, rowVarDiffs, rowVars,\n",
            "    rowWeightedMads, rowWeightedMeans, rowWeightedMedians,\n",
            "    rowWeightedSds, rowWeightedVars\n",
            "\n",
            "\n",
            "Loading required package: GenomicRanges\n",
            "\n",
            "Loading required package: stats4\n",
            "\n",
            "Loading required package: BiocGenerics\n",
            "\n",
            "\n",
            "Attaching package: ‘BiocGenerics’\n",
            "\n",
            "\n",
            "The following objects are masked from ‘package:stats’:\n",
            "\n",
            "    IQR, mad, sd, var, xtabs\n",
            "\n",
            "\n",
            "The following objects are masked from ‘package:base’:\n",
            "\n",
            "    anyDuplicated, aperm, append, as.data.frame, basename, cbind,\n",
            "    colnames, dirname, do.call, duplicated, eval, evalq, Filter, Find,\n",
            "    get, grep, grepl, intersect, is.unsorted, lapply, Map, mapply,\n",
            "    match, mget, order, paste, pmax, pmax.int, pmin, pmin.int,\n",
            "    Position, rank, rbind, Reduce, rownames, sapply, setdiff, sort,\n",
            "    table, tapply, union, unique, unsplit, which.max, which.min\n",
            "\n",
            "\n",
            "Loading required package: S4Vectors\n",
            "\n",
            "\n",
            "Attaching package: ‘S4Vectors’\n",
            "\n",
            "\n",
            "The following object is masked from ‘package:utils’:\n",
            "\n",
            "    findMatches\n",
            "\n",
            "\n",
            "The following objects are masked from ‘package:base’:\n",
            "\n",
            "    expand.grid, I, unname\n",
            "\n",
            "\n",
            "Loading required package: IRanges\n",
            "\n",
            "Loading required package: GenomeInfoDb\n",
            "\n",
            "Loading required package: Biobase\n",
            "\n",
            "Welcome to Bioconductor\n",
            "\n",
            "    Vignettes contain introductory material; view with\n",
            "    'browseVignettes()'. To cite Bioconductor, see\n",
            "    'citation(\"Biobase\")', and for packages 'citation(\"pkgname\")'.\n",
            "\n",
            "\n",
            "\n",
            "Attaching package: ‘Biobase’\n",
            "\n",
            "\n",
            "The following object is masked from ‘package:MatrixGenerics’:\n",
            "\n",
            "    rowMedians\n",
            "\n",
            "\n",
            "The following objects are masked from ‘package:matrixStats’:\n",
            "\n",
            "    anyMissing, rowMedians\n",
            "\n",
            "\n",
            "\n",
            "Attaching package: ‘dplyr’\n",
            "\n",
            "\n",
            "The following object is masked from ‘package:Biobase’:\n",
            "\n",
            "    combine\n",
            "\n",
            "\n",
            "The following objects are masked from ‘package:GenomicRanges’:\n",
            "\n",
            "    intersect, setdiff, union\n",
            "\n",
            "\n",
            "The following object is masked from ‘package:GenomeInfoDb’:\n",
            "\n",
            "    intersect\n",
            "\n",
            "\n",
            "The following objects are masked from ‘package:IRanges’:\n",
            "\n",
            "    collapse, desc, intersect, setdiff, slice, union\n",
            "\n",
            "\n",
            "The following objects are masked from ‘package:S4Vectors’:\n",
            "\n",
            "    first, intersect, rename, setdiff, setequal, union\n",
            "\n",
            "\n",
            "The following objects are masked from ‘package:BiocGenerics’:\n",
            "\n",
            "    combine, intersect, setdiff, union\n",
            "\n",
            "\n",
            "The following object is masked from ‘package:matrixStats’:\n",
            "\n",
            "    count\n",
            "\n",
            "\n",
            "The following objects are masked from ‘package:stats’:\n",
            "\n",
            "    filter, lag\n",
            "\n",
            "\n",
            "The following objects are masked from ‘package:base’:\n",
            "\n",
            "    intersect, setdiff, setequal, union\n",
            "\n",
            "\n",
            "\n",
            "Attaching package: ‘limma’\n",
            "\n",
            "\n",
            "The following object is masked from ‘package:BiocGenerics’:\n",
            "\n",
            "    plotMA\n",
            "\n",
            "\n"
          ]
        }
      ]
    },
    {
      "cell_type": "code",
      "source": [
        "query <- GDCquery(project = c(\"TCGA-KICH\", \"TCGA-KIRC\", \"TCGA-KIRP\"),\n",
        "                  data.category = \"Transcriptome Profiling\",\n",
        "                  data.type = \"Gene Expression Quantification\",\n",
        "                  experimental.strategy = \"RNA-Seq\",\n",
        "                  barcode = c(\"TCGA-*\"),\n",
        "                  workflow.type = \"STAR - Counts\",\n",
        "                  sample.type = \"Primary Tumor\")"
      ],
      "metadata": {
        "colab": {
          "base_uri": "https://localhost:8080/"
        },
        "id": "QkXl-4mObv0k",
        "outputId": "dce126e4-8356-496a-eb82-42f1b6db1110"
      },
      "execution_count": 3,
      "outputs": [
        {
          "output_type": "stream",
          "name": "stderr",
          "text": [
            "--------------------------------------\n",
            "\n",
            "o GDCquery: Searching in GDC database\n",
            "\n",
            "--------------------------------------\n",
            "\n",
            "Genome of reference: hg38\n",
            "\n",
            "--------------------------------------------\n",
            "\n",
            "oo Accessing GDC. This might take a while...\n",
            "\n",
            "--------------------------------------------\n",
            "\n",
            "ooo Project: TCGA-KICH\n",
            "\n",
            "ooo Project: TCGA-KIRC\n",
            "\n",
            "ooo Project: TCGA-KIRP\n",
            "\n",
            "--------------------\n",
            "\n",
            "oo Filtering results\n",
            "\n",
            "--------------------\n",
            "\n",
            "ooo By experimental.strategy\n",
            "\n",
            "ooo By data.type\n",
            "\n",
            "ooo By workflow.type\n",
            "\n",
            "ooo By barcode\n",
            "\n",
            "ooo By sample.type\n",
            "\n",
            "----------------\n",
            "\n",
            "oo Checking data\n",
            "\n",
            "----------------\n",
            "\n",
            "ooo Checking if there are duplicated cases\n",
            "\n",
            "ooo Checking if there are results for the query\n",
            "\n",
            "-------------------\n",
            "\n",
            "o Preparing output\n",
            "\n",
            "-------------------\n",
            "\n"
          ]
        }
      ]
    },
    {
      "cell_type": "code",
      "source": [
        "GDCdownload(query, method = \"api\", files.per.chunk = 50, directory = \"data\")"
      ],
      "metadata": {
        "colab": {
          "base_uri": "https://localhost:8080/"
        },
        "id": "u8CNsD62b1Be",
        "outputId": "5ccf7e5c-6efa-422e-dbe1-fb5830697404"
      },
      "execution_count": 4,
      "outputs": [
        {
          "output_type": "stream",
          "name": "stderr",
          "text": [
            "Downloading data for project TCGA-KICH\n",
            "\n",
            "GDCdownload will download 66 files. A total of 279.186007 MB\n",
            "\n",
            "Downloading chunk 1 of 2 (50 files, size = 211.480999 MB) as Sat_Dec__9_16_10_25_2023_0.tar.gz\n",
            "\n"
          ]
        },
        {
          "output_type": "stream",
          "name": "stdout",
          "text": [
            "Downloading: 50 MB     "
          ]
        },
        {
          "output_type": "stream",
          "name": "stderr",
          "text": [
            "Downloading chunk 2 of 2 (16 files, size = 67.705008 MB) as Sat_Dec__9_16_10_25_2023_1.tar.gz\n",
            "\n"
          ]
        },
        {
          "output_type": "stream",
          "name": "stdout",
          "text": [
            "Downloading: 16 MB     "
          ]
        },
        {
          "output_type": "stream",
          "name": "stderr",
          "text": [
            "Downloading data for project TCGA-KIRC\n",
            "\n",
            "GDCdownload will download 541 files. A total of 2.294839488 GB\n",
            "\n",
            "Downloading chunk 1 of 11 (50 files, size = 212.091466 MB) as Sat_Dec__9_16_11_12_2023_0.tar.gz\n",
            "\n"
          ]
        },
        {
          "output_type": "stream",
          "name": "stdout",
          "text": [
            "Downloading: 52 MB     "
          ]
        },
        {
          "output_type": "stream",
          "name": "stderr",
          "text": [
            "Downloading chunk 2 of 11 (50 files, size = 212.145332 MB) as Sat_Dec__9_16_11_12_2023_1.tar.gz\n",
            "\n"
          ]
        },
        {
          "output_type": "stream",
          "name": "stdout",
          "text": [
            "Downloading: 53 MB     "
          ]
        },
        {
          "output_type": "stream",
          "name": "stderr",
          "text": [
            "Downloading chunk 3 of 11 (50 files, size = 212.152067 MB) as Sat_Dec__9_16_11_12_2023_2.tar.gz\n",
            "\n"
          ]
        },
        {
          "output_type": "stream",
          "name": "stdout",
          "text": [
            "Downloading: 53 MB     "
          ]
        },
        {
          "output_type": "stream",
          "name": "stderr",
          "text": [
            "Downloading chunk 4 of 11 (50 files, size = 212.022871 MB) as Sat_Dec__9_16_11_12_2023_3.tar.gz\n",
            "\n"
          ]
        },
        {
          "output_type": "stream",
          "name": "stdout",
          "text": [
            "Downloading: 53 MB     "
          ]
        },
        {
          "output_type": "stream",
          "name": "stderr",
          "text": [
            "Downloading chunk 5 of 11 (50 files, size = 212.150256 MB) as Sat_Dec__9_16_11_12_2023_4.tar.gz\n",
            "\n"
          ]
        },
        {
          "output_type": "stream",
          "name": "stdout",
          "text": [
            "Downloading: 53 MB     "
          ]
        },
        {
          "output_type": "stream",
          "name": "stderr",
          "text": [
            "Downloading chunk 6 of 11 (50 files, size = 212.041339 MB) as Sat_Dec__9_16_11_12_2023_5.tar.gz\n",
            "\n"
          ]
        },
        {
          "output_type": "stream",
          "name": "stdout",
          "text": [
            "Downloading: 53 MB     "
          ]
        },
        {
          "output_type": "stream",
          "name": "stderr",
          "text": [
            "Downloading chunk 7 of 11 (50 files, size = 212.114272 MB) as Sat_Dec__9_16_11_12_2023_6.tar.gz\n",
            "\n"
          ]
        },
        {
          "output_type": "stream",
          "name": "stdout",
          "text": [
            "Downloading: 53 MB     "
          ]
        },
        {
          "output_type": "stream",
          "name": "stderr",
          "text": [
            "Downloading chunk 8 of 11 (50 files, size = 211.970275 MB) as Sat_Dec__9_16_11_12_2023_7.tar.gz\n",
            "\n"
          ]
        },
        {
          "output_type": "stream",
          "name": "stdout",
          "text": [
            "Downloading: 52 MB     "
          ]
        },
        {
          "output_type": "stream",
          "name": "stderr",
          "text": [
            "Downloading chunk 9 of 11 (50 files, size = 212.152668 MB) as Sat_Dec__9_16_11_12_2023_8.tar.gz\n",
            "\n"
          ]
        },
        {
          "output_type": "stream",
          "name": "stdout",
          "text": [
            "Downloading: 53 MB     "
          ]
        },
        {
          "output_type": "stream",
          "name": "stderr",
          "text": [
            "Downloading chunk 10 of 11 (50 files, size = 212.010295 MB) as Sat_Dec__9_16_11_12_2023_9.tar.gz\n",
            "\n"
          ]
        },
        {
          "output_type": "stream",
          "name": "stdout",
          "text": [
            "Downloading: 52 MB     "
          ]
        },
        {
          "output_type": "stream",
          "name": "stderr",
          "text": [
            "Downloading chunk 11 of 11 (41 files, size = 173.988647 MB) as Sat_Dec__9_16_11_12_2023_10.tar.gz\n",
            "\n"
          ]
        },
        {
          "output_type": "stream",
          "name": "stdout",
          "text": [
            "Downloading: 44 MB     "
          ]
        },
        {
          "output_type": "stream",
          "name": "stderr",
          "text": [
            "Downloading data for project TCGA-KIRP\n",
            "\n",
            "GDCdownload will download 290 files. A total of 1.227867897 GB\n",
            "\n",
            "Downloading chunk 1 of 6 (50 files, size = 211.594883 MB) as Sat_Dec__9_16_19_33_2023_0.tar.gz\n",
            "\n"
          ]
        },
        {
          "output_type": "stream",
          "name": "stdout",
          "text": [
            "Downloading: 51 MB     "
          ]
        },
        {
          "output_type": "stream",
          "name": "stderr",
          "text": [
            "Downloading chunk 2 of 6 (50 files, size = 211.772261 MB) as Sat_Dec__9_16_19_33_2023_1.tar.gz\n",
            "\n"
          ]
        },
        {
          "output_type": "stream",
          "name": "stdout",
          "text": [
            "Downloading: 51 MB     "
          ]
        },
        {
          "output_type": "stream",
          "name": "stderr",
          "text": [
            "Downloading chunk 3 of 6 (50 files, size = 211.734881 MB) as Sat_Dec__9_16_19_33_2023_2.tar.gz\n",
            "\n"
          ]
        },
        {
          "output_type": "stream",
          "name": "stdout",
          "text": [
            "Downloading: 51 MB     "
          ]
        },
        {
          "output_type": "stream",
          "name": "stderr",
          "text": [
            "Downloading chunk 4 of 6 (50 files, size = 211.697141 MB) as Sat_Dec__9_16_19_33_2023_3.tar.gz\n",
            "\n"
          ]
        },
        {
          "output_type": "stream",
          "name": "stdout",
          "text": [
            "Downloading: 51 MB     "
          ]
        },
        {
          "output_type": "stream",
          "name": "stderr",
          "text": [
            "Downloading chunk 5 of 6 (50 files, size = 211.718131 MB) as Sat_Dec__9_16_19_33_2023_4.tar.gz\n",
            "\n"
          ]
        },
        {
          "output_type": "stream",
          "name": "stdout",
          "text": [
            "Downloading: 51 MB     "
          ]
        },
        {
          "output_type": "stream",
          "name": "stderr",
          "text": [
            "Downloading chunk 6 of 6 (40 files, size = 169.3506 MB) as Sat_Dec__9_16_19_33_2023_5.tar.gz\n",
            "\n"
          ]
        },
        {
          "output_type": "stream",
          "name": "stdout",
          "text": [
            "Downloading: 41 MB     "
          ]
        }
      ]
    },
    {
      "cell_type": "code",
      "source": [
        "data <- GDCprepare(query, summarizedExperiment = TRUE, directory = \"data\")"
      ],
      "metadata": {
        "colab": {
          "base_uri": "https://localhost:8080/"
        },
        "id": "vThAUjoQb6fO",
        "outputId": "e15cd39d-5c14-4268-fbd0-6d23b802631c"
      },
      "execution_count": 5,
      "outputs": [
        {
          "output_type": "stream",
          "name": "stdout",
          "text": [
            "|====================================================|100%                      Completed after 1 m \n"
          ]
        },
        {
          "output_type": "stream",
          "name": "stderr",
          "text": [
            "Starting to add information to samples\n",
            "\n",
            " => Add clinical information to samples\n",
            "\n",
            " => Adding TCGA molecular information from marker papers\n",
            "\n",
            " => Information will have prefix 'paper_' \n",
            "\n",
            "kich subtype information from:doi:10.1016/j.ccr.2014.07.014\n",
            "\n",
            "kirc subtype information from:doi:10.1038/nature12222\n",
            "\n",
            "kirp subtype information from:doi:10.1056/NEJMoa1505917\n",
            "\n",
            "Available assays in SummarizedExperiment : \n",
            "  => unstranded\n",
            "  => stranded_first\n",
            "  => stranded_second\n",
            "  => tpm_unstrand\n",
            "  => fpkm_unstrand\n",
            "  => fpkm_uq_unstrand\n",
            "\n"
          ]
        }
      ]
    },
    {
      "cell_type": "code",
      "source": [
        "dataMatrix <- assays(data)"
      ],
      "metadata": {
        "id": "1bwABPyrb9W5"
      },
      "execution_count": 6,
      "outputs": []
    },
    {
      "cell_type": "code",
      "source": [
        "# For gene expression if you need to see a boxplot correlation and AAIC plot to define outliers you can run\n",
        "data.RNAseq_CorOutliers <- TCGAanalyze_Preprocessing(data)"
      ],
      "metadata": {
        "id": "T8XCcetwcAgn",
        "colab": {
          "base_uri": "https://localhost:8080/"
        },
        "outputId": "1d2b1051-d468-45a7-dbb2-a64ef4ea0bec"
      },
      "execution_count": 7,
      "outputs": [
        {
          "output_type": "stream",
          "name": "stderr",
          "text": [
            "Number of outliers: 0\n",
            "\n"
          ]
        }
      ]
    },
    {
      "cell_type": "code",
      "source": [
        "class(data)"
      ],
      "metadata": {
        "id": "rzI9KFZEcMcq",
        "colab": {
          "base_uri": "https://localhost:8080/",
          "height": 34
        },
        "outputId": "fb9cce93-da5a-4a2a-cad9-63914b7b4eb5"
      },
      "execution_count": 8,
      "outputs": [
        {
          "output_type": "display_data",
          "data": {
            "text/html": [
              "'RangedSummarizedExperiment'"
            ],
            "text/markdown": "'RangedSummarizedExperiment'",
            "text/latex": "'RangedSummarizedExperiment'",
            "text/plain": [
              "[1] \"RangedSummarizedExperiment\"\n",
              "attr(,\"package\")\n",
              "[1] \"SummarizedExperiment\""
            ]
          },
          "metadata": {}
        }
      ]
    },
    {
      "cell_type": "code",
      "source": [
        "saveRDS(data, file = \"TCGA.rds\")"
      ],
      "metadata": {
        "id": "ds14ExC76Dr6"
      },
      "execution_count": 9,
      "outputs": []
    },
    {
      "cell_type": "code",
      "source": [
        "df <- readRDS(\"TCGA.rds\")"
      ],
      "metadata": {
        "id": "V8oMTwRe6FaW"
      },
      "execution_count": 10,
      "outputs": []
    },
    {
      "cell_type": "code",
      "source": [
        "df"
      ],
      "metadata": {
        "colab": {
          "base_uri": "https://localhost:8080/",
          "height": 225
        },
        "id": "FwGdv5UO64nI",
        "outputId": "59713b74-a4cf-442a-a77c-75c0bae43bf8"
      },
      "execution_count": 11,
      "outputs": [
        {
          "output_type": "display_data",
          "data": {
            "text/plain": [
              "class: RangedSummarizedExperiment \n",
              "dim: 60660 897 \n",
              "metadata(1): data_release\n",
              "assays(6): unstranded stranded_first ... fpkm_unstrand fpkm_uq_unstrand\n",
              "rownames(60660): ENSG00000000003.15 ENSG00000000005.6 ...\n",
              "  ENSG00000288674.1 ENSG00000288675.1\n",
              "rowData names(10): source type ... hgnc_id havana_gene\n",
              "colnames(897): TCGA-KL-8339-01A-11R-2315-07\n",
              "  TCGA-KO-8415-01A-11R-2315-07 ... TCGA-B9-A5W8-01A-11R-A28H-07\n",
              "  TCGA-HE-A5NK-01A-11R-A26U-07\n",
              "colData names(245): barcode patient ... paper_VHL.copy..log2.normal.\n",
              "  paper_NF2.copy..log2.normal."
            ]
          },
          "metadata": {}
        }
      ]
    },
    {
      "cell_type": "code",
      "source": [
        "geneslist <- df@rowRanges$gene_id\n",
        "samplelist <- df@colData@listData$sample"
      ],
      "metadata": {
        "id": "R6XV8PSp7EOG"
      },
      "execution_count": 12,
      "outputs": []
    },
    {
      "cell_type": "code",
      "source": [
        "# Number of genes in the dataset\n",
        "length(geneslist)\n",
        "\n",
        "# First 25 genes in the dataset\n",
        "head(geneslist, 25)"
      ],
      "metadata": {
        "colab": {
          "base_uri": "https://localhost:8080/",
          "height": 121
        },
        "id": "FvB2eKwV7cYu",
        "outputId": "8e2f8909-38cd-47a9-b7af-93e402142261"
      },
      "execution_count": 13,
      "outputs": [
        {
          "output_type": "display_data",
          "data": {
            "text/html": [
              "60660"
            ],
            "text/markdown": "60660",
            "text/latex": "60660",
            "text/plain": [
              "[1] 60660"
            ]
          },
          "metadata": {}
        },
        {
          "output_type": "display_data",
          "data": {
            "text/html": [
              "<style>\n",
              ".list-inline {list-style: none; margin:0; padding: 0}\n",
              ".list-inline>li {display: inline-block}\n",
              ".list-inline>li:not(:last-child)::after {content: \"\\00b7\"; padding: 0 .5ex}\n",
              "</style>\n",
              "<ol class=list-inline><li>'ENSG00000000003.15'</li><li>'ENSG00000000005.6'</li><li>'ENSG00000000419.13'</li><li>'ENSG00000000457.14'</li><li>'ENSG00000000460.17'</li><li>'ENSG00000000938.13'</li><li>'ENSG00000000971.16'</li><li>'ENSG00000001036.14'</li><li>'ENSG00000001084.13'</li><li>'ENSG00000001167.14'</li><li>'ENSG00000001460.18'</li><li>'ENSG00000001461.17'</li><li>'ENSG00000001497.18'</li><li>'ENSG00000001561.7'</li><li>'ENSG00000001617.12'</li><li>'ENSG00000001626.16'</li><li>'ENSG00000001629.10'</li><li>'ENSG00000001630.17'</li><li>'ENSG00000001631.16'</li><li>'ENSG00000002016.18'</li><li>'ENSG00000002079.14'</li><li>'ENSG00000002330.14'</li><li>'ENSG00000002549.12'</li><li>'ENSG00000002586.20'</li><li>'ENSG00000002586.20_PAR_Y'</li></ol>\n"
            ],
            "text/markdown": "1. 'ENSG00000000003.15'\n2. 'ENSG00000000005.6'\n3. 'ENSG00000000419.13'\n4. 'ENSG00000000457.14'\n5. 'ENSG00000000460.17'\n6. 'ENSG00000000938.13'\n7. 'ENSG00000000971.16'\n8. 'ENSG00000001036.14'\n9. 'ENSG00000001084.13'\n10. 'ENSG00000001167.14'\n11. 'ENSG00000001460.18'\n12. 'ENSG00000001461.17'\n13. 'ENSG00000001497.18'\n14. 'ENSG00000001561.7'\n15. 'ENSG00000001617.12'\n16. 'ENSG00000001626.16'\n17. 'ENSG00000001629.10'\n18. 'ENSG00000001630.17'\n19. 'ENSG00000001631.16'\n20. 'ENSG00000002016.18'\n21. 'ENSG00000002079.14'\n22. 'ENSG00000002330.14'\n23. 'ENSG00000002549.12'\n24. 'ENSG00000002586.20'\n25. 'ENSG00000002586.20_PAR_Y'\n\n\n",
            "text/latex": "\\begin{enumerate*}\n\\item 'ENSG00000000003.15'\n\\item 'ENSG00000000005.6'\n\\item 'ENSG00000000419.13'\n\\item 'ENSG00000000457.14'\n\\item 'ENSG00000000460.17'\n\\item 'ENSG00000000938.13'\n\\item 'ENSG00000000971.16'\n\\item 'ENSG00000001036.14'\n\\item 'ENSG00000001084.13'\n\\item 'ENSG00000001167.14'\n\\item 'ENSG00000001460.18'\n\\item 'ENSG00000001461.17'\n\\item 'ENSG00000001497.18'\n\\item 'ENSG00000001561.7'\n\\item 'ENSG00000001617.12'\n\\item 'ENSG00000001626.16'\n\\item 'ENSG00000001629.10'\n\\item 'ENSG00000001630.17'\n\\item 'ENSG00000001631.16'\n\\item 'ENSG00000002016.18'\n\\item 'ENSG00000002079.14'\n\\item 'ENSG00000002330.14'\n\\item 'ENSG00000002549.12'\n\\item 'ENSG00000002586.20'\n\\item 'ENSG00000002586.20\\_PAR\\_Y'\n\\end{enumerate*}\n",
            "text/plain": [
              " [1] \"ENSG00000000003.15\"       \"ENSG00000000005.6\"       \n",
              " [3] \"ENSG00000000419.13\"       \"ENSG00000000457.14\"      \n",
              " [5] \"ENSG00000000460.17\"       \"ENSG00000000938.13\"      \n",
              " [7] \"ENSG00000000971.16\"       \"ENSG00000001036.14\"      \n",
              " [9] \"ENSG00000001084.13\"       \"ENSG00000001167.14\"      \n",
              "[11] \"ENSG00000001460.18\"       \"ENSG00000001461.17\"      \n",
              "[13] \"ENSG00000001497.18\"       \"ENSG00000001561.7\"       \n",
              "[15] \"ENSG00000001617.12\"       \"ENSG00000001626.16\"      \n",
              "[17] \"ENSG00000001629.10\"       \"ENSG00000001630.17\"      \n",
              "[19] \"ENSG00000001631.16\"       \"ENSG00000002016.18\"      \n",
              "[21] \"ENSG00000002079.14\"       \"ENSG00000002330.14\"      \n",
              "[23] \"ENSG00000002549.12\"       \"ENSG00000002586.20\"      \n",
              "[25] \"ENSG00000002586.20_PAR_Y\""
            ]
          },
          "metadata": {}
        }
      ]
    },
    {
      "cell_type": "code",
      "source": [
        "# Number of samples in the dataset\n",
        "length(samplelist)\n",
        "\n",
        "# First 25 samples in the dataset\n",
        "head(samplelist, 25)"
      ],
      "metadata": {
        "colab": {
          "base_uri": "https://localhost:8080/",
          "height": 104
        },
        "id": "jJ-mosHy8zy4",
        "outputId": "3f0db843-fd2e-4c95-d060-39f2c64346fb"
      },
      "execution_count": 14,
      "outputs": [
        {
          "output_type": "display_data",
          "data": {
            "text/html": [
              "897"
            ],
            "text/markdown": "897",
            "text/latex": "897",
            "text/plain": [
              "[1] 897"
            ]
          },
          "metadata": {}
        },
        {
          "output_type": "display_data",
          "data": {
            "text/html": [
              "<style>\n",
              ".list-inline {list-style: none; margin:0; padding: 0}\n",
              ".list-inline>li {display: inline-block}\n",
              ".list-inline>li:not(:last-child)::after {content: \"\\00b7\"; padding: 0 .5ex}\n",
              "</style>\n",
              "<ol class=list-inline><li>'TCGA-KL-8339-01A'</li><li>'TCGA-KO-8415-01A'</li><li>'TCGA-KL-8346-01A'</li><li>'TCGA-KM-8477-01A'</li><li>'TCGA-KL-8342-01A'</li><li>'TCGA-KM-8639-01A'</li><li>'TCGA-KO-8411-01A'</li><li>'TCGA-KN-8430-01A'</li><li>'TCGA-KL-8333-01A'</li><li>'TCGA-KN-8421-01A'</li><li>'TCGA-KN-8431-01A'</li><li>'TCGA-KN-8423-01A'</li><li>'TCGA-KM-8438-01A'</li><li>'TCGA-KL-8323-01A'</li><li>'TCGA-KM-8442-01A'</li><li>'TCGA-KL-8336-01A'</li><li>'TCGA-KN-8435-01A'</li><li>'TCGA-KO-8410-01A'</li><li>'TCGA-KO-8416-01A'</li><li>'TCGA-KM-8443-01A'</li><li>'TCGA-KN-8429-01A'</li><li>'TCGA-KL-8325-01A'</li><li>'TCGA-KL-8338-01A'</li><li>'TCGA-KN-8427-01A'</li><li>'TCGA-KL-8332-01A'</li></ol>\n"
            ],
            "text/markdown": "1. 'TCGA-KL-8339-01A'\n2. 'TCGA-KO-8415-01A'\n3. 'TCGA-KL-8346-01A'\n4. 'TCGA-KM-8477-01A'\n5. 'TCGA-KL-8342-01A'\n6. 'TCGA-KM-8639-01A'\n7. 'TCGA-KO-8411-01A'\n8. 'TCGA-KN-8430-01A'\n9. 'TCGA-KL-8333-01A'\n10. 'TCGA-KN-8421-01A'\n11. 'TCGA-KN-8431-01A'\n12. 'TCGA-KN-8423-01A'\n13. 'TCGA-KM-8438-01A'\n14. 'TCGA-KL-8323-01A'\n15. 'TCGA-KM-8442-01A'\n16. 'TCGA-KL-8336-01A'\n17. 'TCGA-KN-8435-01A'\n18. 'TCGA-KO-8410-01A'\n19. 'TCGA-KO-8416-01A'\n20. 'TCGA-KM-8443-01A'\n21. 'TCGA-KN-8429-01A'\n22. 'TCGA-KL-8325-01A'\n23. 'TCGA-KL-8338-01A'\n24. 'TCGA-KN-8427-01A'\n25. 'TCGA-KL-8332-01A'\n\n\n",
            "text/latex": "\\begin{enumerate*}\n\\item 'TCGA-KL-8339-01A'\n\\item 'TCGA-KO-8415-01A'\n\\item 'TCGA-KL-8346-01A'\n\\item 'TCGA-KM-8477-01A'\n\\item 'TCGA-KL-8342-01A'\n\\item 'TCGA-KM-8639-01A'\n\\item 'TCGA-KO-8411-01A'\n\\item 'TCGA-KN-8430-01A'\n\\item 'TCGA-KL-8333-01A'\n\\item 'TCGA-KN-8421-01A'\n\\item 'TCGA-KN-8431-01A'\n\\item 'TCGA-KN-8423-01A'\n\\item 'TCGA-KM-8438-01A'\n\\item 'TCGA-KL-8323-01A'\n\\item 'TCGA-KM-8442-01A'\n\\item 'TCGA-KL-8336-01A'\n\\item 'TCGA-KN-8435-01A'\n\\item 'TCGA-KO-8410-01A'\n\\item 'TCGA-KO-8416-01A'\n\\item 'TCGA-KM-8443-01A'\n\\item 'TCGA-KN-8429-01A'\n\\item 'TCGA-KL-8325-01A'\n\\item 'TCGA-KL-8338-01A'\n\\item 'TCGA-KN-8427-01A'\n\\item 'TCGA-KL-8332-01A'\n\\end{enumerate*}\n",
            "text/plain": [
              " [1] \"TCGA-KL-8339-01A\" \"TCGA-KO-8415-01A\" \"TCGA-KL-8346-01A\" \"TCGA-KM-8477-01A\"\n",
              " [5] \"TCGA-KL-8342-01A\" \"TCGA-KM-8639-01A\" \"TCGA-KO-8411-01A\" \"TCGA-KN-8430-01A\"\n",
              " [9] \"TCGA-KL-8333-01A\" \"TCGA-KN-8421-01A\" \"TCGA-KN-8431-01A\" \"TCGA-KN-8423-01A\"\n",
              "[13] \"TCGA-KM-8438-01A\" \"TCGA-KL-8323-01A\" \"TCGA-KM-8442-01A\" \"TCGA-KL-8336-01A\"\n",
              "[17] \"TCGA-KN-8435-01A\" \"TCGA-KO-8410-01A\" \"TCGA-KO-8416-01A\" \"TCGA-KM-8443-01A\"\n",
              "[21] \"TCGA-KN-8429-01A\" \"TCGA-KL-8325-01A\" \"TCGA-KL-8338-01A\" \"TCGA-KN-8427-01A\"\n",
              "[25] \"TCGA-KL-8332-01A\""
            ]
          },
          "metadata": {}
        }
      ]
    },
    {
      "cell_type": "code",
      "source": [
        "expr <- df@assays@data@listData$tpm_unstrand"
      ],
      "metadata": {
        "id": "0gh_jwn7-C6Z"
      },
      "execution_count": 15,
      "outputs": []
    },
    {
      "cell_type": "code",
      "source": [
        "rownames(expr) <- geneslist\n",
        "colnames(expr) <- df@colData@listData$sample"
      ],
      "metadata": {
        "id": "jlG11td2AhNH"
      },
      "execution_count": 16,
      "outputs": []
    },
    {
      "cell_type": "code",
      "source": [
        "head(expr, 5)"
      ],
      "metadata": {
        "colab": {
          "base_uri": "https://localhost:8080/",
          "height": 295
        },
        "id": "-B4DPtIhAzAl",
        "outputId": "736d49ae-580e-4d43-8595-2bfba7b0566b"
      },
      "execution_count": 17,
      "outputs": [
        {
          "output_type": "display_data",
          "data": {
            "text/html": [
              "<table class=\"dataframe\">\n",
              "<caption>A matrix: 5 × 897 of type dbl</caption>\n",
              "<thead>\n",
              "\t<tr><th></th><th scope=col>TCGA-KL-8339-01A</th><th scope=col>TCGA-KO-8415-01A</th><th scope=col>TCGA-KL-8346-01A</th><th scope=col>TCGA-KM-8477-01A</th><th scope=col>TCGA-KL-8342-01A</th><th scope=col>TCGA-KM-8639-01A</th><th scope=col>TCGA-KO-8411-01A</th><th scope=col>TCGA-KN-8430-01A</th><th scope=col>TCGA-KL-8333-01A</th><th scope=col>TCGA-KN-8421-01A</th><th scope=col>⋯</th><th scope=col>TCGA-BQ-7049-01A</th><th scope=col>TCGA-A4-8517-01A</th><th scope=col>TCGA-GL-7966-01A</th><th scope=col>TCGA-B9-A5W7-01A</th><th scope=col>TCGA-O9-A75Z-01A</th><th scope=col>TCGA-A4-8630-01A</th><th scope=col>TCGA-A4-7287-01A</th><th scope=col>TCGA-2Z-A9JS-01A</th><th scope=col>TCGA-B9-A5W8-01A</th><th scope=col>TCGA-HE-A5NK-01A</th></tr>\n",
              "</thead>\n",
              "<tbody>\n",
              "\t<tr><th scope=row>ENSG00000000003.15</th><td> 17.3893</td><td> 9.6741</td><td>27.4489</td><td> 6.2207</td><td>15.3781</td><td>99.5059</td><td>35.6438</td><td>34.6335</td><td>13.2803</td><td>12.6005</td><td>⋯</td><td>24.4461</td><td>26.4247</td><td> 91.8787</td><td>67.1387</td><td>32.7761</td><td>44.4680</td><td> 76.9411</td><td> 64.2397</td><td>41.6238</td><td>27.6946</td></tr>\n",
              "\t<tr><th scope=row>ENSG00000000005.6</th><td>  0.0000</td><td> 0.1011</td><td> 0.3794</td><td> 0.0458</td><td> 0.3184</td><td> 0.4429</td><td> 2.0935</td><td> 0.2865</td><td> 1.9366</td><td> 0.3796</td><td>⋯</td><td> 0.0326</td><td> 0.2792</td><td>  0.1570</td><td> 1.8001</td><td> 0.0421</td><td> 0.1903</td><td>  0.7620</td><td>  0.1830</td><td> 0.1193</td><td> 0.0719</td></tr>\n",
              "\t<tr><th scope=row>ENSG00000000419.13</th><td>124.3109</td><td>40.4987</td><td>32.5808</td><td>42.3603</td><td>74.1792</td><td>68.9986</td><td>87.0411</td><td>69.7603</td><td>94.4090</td><td>69.6067</td><td>⋯</td><td>41.5567</td><td>50.3573</td><td>146.0781</td><td>67.6642</td><td>68.6423</td><td>46.9092</td><td>106.8663</td><td>106.6303</td><td>59.4621</td><td>59.5989</td></tr>\n",
              "\t<tr><th scope=row>ENSG00000000457.14</th><td>  3.6671</td><td> 1.4692</td><td> 1.2882</td><td> 3.9375</td><td> 2.3672</td><td> 5.4945</td><td> 2.1779</td><td> 2.7371</td><td> 3.2603</td><td> 1.0475</td><td>⋯</td><td> 5.2980</td><td> 3.1057</td><td>  8.1720</td><td> 5.3032</td><td> 6.5649</td><td> 4.4068</td><td>  7.4960</td><td>  7.4261</td><td> 2.0215</td><td> 1.8498</td></tr>\n",
              "\t<tr><th scope=row>ENSG00000000460.17</th><td>  1.1493</td><td> 0.3750</td><td> 0.4378</td><td> 0.4585</td><td> 0.6954</td><td> 1.1456</td><td> 0.6785</td><td> 0.8179</td><td> 0.9076</td><td> 0.3191</td><td>⋯</td><td> 1.1911</td><td> 1.0009</td><td>  6.9628</td><td> 1.1974</td><td> 1.1556</td><td> 1.6465</td><td>  7.2177</td><td>  1.9730</td><td> 0.7523</td><td> 0.6931</td></tr>\n",
              "</tbody>\n",
              "</table>\n"
            ],
            "text/markdown": "\nA matrix: 5 × 897 of type dbl\n\n| <!--/--> | TCGA-KL-8339-01A | TCGA-KO-8415-01A | TCGA-KL-8346-01A | TCGA-KM-8477-01A | TCGA-KL-8342-01A | TCGA-KM-8639-01A | TCGA-KO-8411-01A | TCGA-KN-8430-01A | TCGA-KL-8333-01A | TCGA-KN-8421-01A | ⋯ | TCGA-BQ-7049-01A | TCGA-A4-8517-01A | TCGA-GL-7966-01A | TCGA-B9-A5W7-01A | TCGA-O9-A75Z-01A | TCGA-A4-8630-01A | TCGA-A4-7287-01A | TCGA-2Z-A9JS-01A | TCGA-B9-A5W8-01A | TCGA-HE-A5NK-01A |\n|---|---|---|---|---|---|---|---|---|---|---|---|---|---|---|---|---|---|---|---|---|---|\n| ENSG00000000003.15 |  17.3893 |  9.6741 | 27.4489 |  6.2207 | 15.3781 | 99.5059 | 35.6438 | 34.6335 | 13.2803 | 12.6005 | ⋯ | 24.4461 | 26.4247 |  91.8787 | 67.1387 | 32.7761 | 44.4680 |  76.9411 |  64.2397 | 41.6238 | 27.6946 |\n| ENSG00000000005.6 |   0.0000 |  0.1011 |  0.3794 |  0.0458 |  0.3184 |  0.4429 |  2.0935 |  0.2865 |  1.9366 |  0.3796 | ⋯ |  0.0326 |  0.2792 |   0.1570 |  1.8001 |  0.0421 |  0.1903 |   0.7620 |   0.1830 |  0.1193 |  0.0719 |\n| ENSG00000000419.13 | 124.3109 | 40.4987 | 32.5808 | 42.3603 | 74.1792 | 68.9986 | 87.0411 | 69.7603 | 94.4090 | 69.6067 | ⋯ | 41.5567 | 50.3573 | 146.0781 | 67.6642 | 68.6423 | 46.9092 | 106.8663 | 106.6303 | 59.4621 | 59.5989 |\n| ENSG00000000457.14 |   3.6671 |  1.4692 |  1.2882 |  3.9375 |  2.3672 |  5.4945 |  2.1779 |  2.7371 |  3.2603 |  1.0475 | ⋯ |  5.2980 |  3.1057 |   8.1720 |  5.3032 |  6.5649 |  4.4068 |   7.4960 |   7.4261 |  2.0215 |  1.8498 |\n| ENSG00000000460.17 |   1.1493 |  0.3750 |  0.4378 |  0.4585 |  0.6954 |  1.1456 |  0.6785 |  0.8179 |  0.9076 |  0.3191 | ⋯ |  1.1911 |  1.0009 |   6.9628 |  1.1974 |  1.1556 |  1.6465 |   7.2177 |   1.9730 |  0.7523 |  0.6931 |\n\n",
            "text/latex": "A matrix: 5 × 897 of type dbl\n\\begin{tabular}{r|lllllllllllllllllllll}\n  & TCGA-KL-8339-01A & TCGA-KO-8415-01A & TCGA-KL-8346-01A & TCGA-KM-8477-01A & TCGA-KL-8342-01A & TCGA-KM-8639-01A & TCGA-KO-8411-01A & TCGA-KN-8430-01A & TCGA-KL-8333-01A & TCGA-KN-8421-01A & ⋯ & TCGA-BQ-7049-01A & TCGA-A4-8517-01A & TCGA-GL-7966-01A & TCGA-B9-A5W7-01A & TCGA-O9-A75Z-01A & TCGA-A4-8630-01A & TCGA-A4-7287-01A & TCGA-2Z-A9JS-01A & TCGA-B9-A5W8-01A & TCGA-HE-A5NK-01A\\\\\n\\hline\n\tENSG00000000003.15 &  17.3893 &  9.6741 & 27.4489 &  6.2207 & 15.3781 & 99.5059 & 35.6438 & 34.6335 & 13.2803 & 12.6005 & ⋯ & 24.4461 & 26.4247 &  91.8787 & 67.1387 & 32.7761 & 44.4680 &  76.9411 &  64.2397 & 41.6238 & 27.6946\\\\\n\tENSG00000000005.6 &   0.0000 &  0.1011 &  0.3794 &  0.0458 &  0.3184 &  0.4429 &  2.0935 &  0.2865 &  1.9366 &  0.3796 & ⋯ &  0.0326 &  0.2792 &   0.1570 &  1.8001 &  0.0421 &  0.1903 &   0.7620 &   0.1830 &  0.1193 &  0.0719\\\\\n\tENSG00000000419.13 & 124.3109 & 40.4987 & 32.5808 & 42.3603 & 74.1792 & 68.9986 & 87.0411 & 69.7603 & 94.4090 & 69.6067 & ⋯ & 41.5567 & 50.3573 & 146.0781 & 67.6642 & 68.6423 & 46.9092 & 106.8663 & 106.6303 & 59.4621 & 59.5989\\\\\n\tENSG00000000457.14 &   3.6671 &  1.4692 &  1.2882 &  3.9375 &  2.3672 &  5.4945 &  2.1779 &  2.7371 &  3.2603 &  1.0475 & ⋯ &  5.2980 &  3.1057 &   8.1720 &  5.3032 &  6.5649 &  4.4068 &   7.4960 &   7.4261 &  2.0215 &  1.8498\\\\\n\tENSG00000000460.17 &   1.1493 &  0.3750 &  0.4378 &  0.4585 &  0.6954 &  1.1456 &  0.6785 &  0.8179 &  0.9076 &  0.3191 & ⋯ &  1.1911 &  1.0009 &   6.9628 &  1.1974 &  1.1556 &  1.6465 &   7.2177 &   1.9730 &  0.7523 &  0.6931\\\\\n\\end{tabular}\n",
            "text/plain": [
              "                   TCGA-KL-8339-01A TCGA-KO-8415-01A TCGA-KL-8346-01A\n",
              "ENSG00000000003.15  17.3893          9.6741          27.4489         \n",
              "ENSG00000000005.6    0.0000          0.1011           0.3794         \n",
              "ENSG00000000419.13 124.3109         40.4987          32.5808         \n",
              "ENSG00000000457.14   3.6671          1.4692           1.2882         \n",
              "ENSG00000000460.17   1.1493          0.3750           0.4378         \n",
              "                   TCGA-KM-8477-01A TCGA-KL-8342-01A TCGA-KM-8639-01A\n",
              "ENSG00000000003.15  6.2207          15.3781          99.5059         \n",
              "ENSG00000000005.6   0.0458           0.3184           0.4429         \n",
              "ENSG00000000419.13 42.3603          74.1792          68.9986         \n",
              "ENSG00000000457.14  3.9375           2.3672           5.4945         \n",
              "ENSG00000000460.17  0.4585           0.6954           1.1456         \n",
              "                   TCGA-KO-8411-01A TCGA-KN-8430-01A TCGA-KL-8333-01A\n",
              "ENSG00000000003.15 35.6438          34.6335          13.2803         \n",
              "ENSG00000000005.6   2.0935           0.2865           1.9366         \n",
              "ENSG00000000419.13 87.0411          69.7603          94.4090         \n",
              "ENSG00000000457.14  2.1779           2.7371           3.2603         \n",
              "ENSG00000000460.17  0.6785           0.8179           0.9076         \n",
              "                   TCGA-KN-8421-01A ⋯ TCGA-BQ-7049-01A TCGA-A4-8517-01A\n",
              "ENSG00000000003.15 12.6005          ⋯ 24.4461          26.4247         \n",
              "ENSG00000000005.6   0.3796          ⋯  0.0326           0.2792         \n",
              "ENSG00000000419.13 69.6067          ⋯ 41.5567          50.3573         \n",
              "ENSG00000000457.14  1.0475          ⋯  5.2980           3.1057         \n",
              "ENSG00000000460.17  0.3191          ⋯  1.1911           1.0009         \n",
              "                   TCGA-GL-7966-01A TCGA-B9-A5W7-01A TCGA-O9-A75Z-01A\n",
              "ENSG00000000003.15  91.8787         67.1387          32.7761         \n",
              "ENSG00000000005.6    0.1570          1.8001           0.0421         \n",
              "ENSG00000000419.13 146.0781         67.6642          68.6423         \n",
              "ENSG00000000457.14   8.1720          5.3032           6.5649         \n",
              "ENSG00000000460.17   6.9628          1.1974           1.1556         \n",
              "                   TCGA-A4-8630-01A TCGA-A4-7287-01A TCGA-2Z-A9JS-01A\n",
              "ENSG00000000003.15 44.4680           76.9411          64.2397        \n",
              "ENSG00000000005.6   0.1903            0.7620           0.1830        \n",
              "ENSG00000000419.13 46.9092          106.8663         106.6303        \n",
              "ENSG00000000457.14  4.4068            7.4960           7.4261        \n",
              "ENSG00000000460.17  1.6465            7.2177           1.9730        \n",
              "                   TCGA-B9-A5W8-01A TCGA-HE-A5NK-01A\n",
              "ENSG00000000003.15 41.6238          27.6946         \n",
              "ENSG00000000005.6   0.1193           0.0719         \n",
              "ENSG00000000419.13 59.4621          59.5989         \n",
              "ENSG00000000457.14  2.0215           1.8498         \n",
              "ENSG00000000460.17  0.7523           0.6931         "
            ]
          },
          "metadata": {}
        }
      ]
    },
    {
      "cell_type": "code",
      "source": [
        "dim(expr)"
      ],
      "metadata": {
        "colab": {
          "base_uri": "https://localhost:8080/",
          "height": 34
        },
        "id": "qfFPb4Khn3D0",
        "outputId": "33ab45e2-4c98-46e7-add0-dedb260bf2db"
      },
      "execution_count": 18,
      "outputs": [
        {
          "output_type": "display_data",
          "data": {
            "text/html": [
              "<style>\n",
              ".list-inline {list-style: none; margin:0; padding: 0}\n",
              ".list-inline>li {display: inline-block}\n",
              ".list-inline>li:not(:last-child)::after {content: \"\\00b7\"; padding: 0 .5ex}\n",
              "</style>\n",
              "<ol class=list-inline><li>60660</li><li>897</li></ol>\n"
            ],
            "text/markdown": "1. 60660\n2. 897\n\n\n",
            "text/latex": "\\begin{enumerate*}\n\\item 60660\n\\item 897\n\\end{enumerate*}\n",
            "text/plain": [
              "[1] 60660   897"
            ]
          },
          "metadata": {}
        }
      ]
    },
    {
      "cell_type": "code",
      "source": [
        "drop <- apply(expr,1,min) > 2000\n",
        "expr_filtered <- expr[!drop,]"
      ],
      "metadata": {
        "id": "vijJMPWyA3Ci"
      },
      "execution_count": 19,
      "outputs": []
    },
    {
      "cell_type": "code",
      "source": [
        "drop2 <- apply(expr_filtered ,1,max) < 100\n",
        "expr_filtered <- expr_filtered[!drop2,]"
      ],
      "metadata": {
        "id": "Z7bZjZdKByf_"
      },
      "execution_count": 20,
      "outputs": []
    },
    {
      "cell_type": "code",
      "source": [
        "dim(expr_filtered)"
      ],
      "metadata": {
        "colab": {
          "base_uri": "https://localhost:8080/",
          "height": 34
        },
        "id": "0To-gpP0B06u",
        "outputId": "bfac1297-0e16-4d70-a17c-711f94ea2b98"
      },
      "execution_count": 21,
      "outputs": [
        {
          "output_type": "display_data",
          "data": {
            "text/html": [
              "<style>\n",
              ".list-inline {list-style: none; margin:0; padding: 0}\n",
              ".list-inline>li {display: inline-block}\n",
              ".list-inline>li:not(:last-child)::after {content: \"\\00b7\"; padding: 0 .5ex}\n",
              "</style>\n",
              "<ol class=list-inline><li>8540</li><li>897</li></ol>\n"
            ],
            "text/markdown": "1. 8540\n2. 897\n\n\n",
            "text/latex": "\\begin{enumerate*}\n\\item 8540\n\\item 897\n\\end{enumerate*}\n",
            "text/plain": [
              "[1] 8540  897"
            ]
          },
          "metadata": {}
        }
      ]
    },
    {
      "cell_type": "code",
      "source": [
        "head(expr_filtered, 5)"
      ],
      "metadata": {
        "colab": {
          "base_uri": "https://localhost:8080/",
          "height": 295
        },
        "id": "dpai26gGB9zq",
        "outputId": "639b5ace-450f-49bc-cc9c-b728936a5da0"
      },
      "execution_count": 22,
      "outputs": [
        {
          "output_type": "display_data",
          "data": {
            "text/html": [
              "<table class=\"dataframe\">\n",
              "<caption>A matrix: 5 × 897 of type dbl</caption>\n",
              "<thead>\n",
              "\t<tr><th></th><th scope=col>TCGA-KL-8339-01A</th><th scope=col>TCGA-KO-8415-01A</th><th scope=col>TCGA-KL-8346-01A</th><th scope=col>TCGA-KM-8477-01A</th><th scope=col>TCGA-KL-8342-01A</th><th scope=col>TCGA-KM-8639-01A</th><th scope=col>TCGA-KO-8411-01A</th><th scope=col>TCGA-KN-8430-01A</th><th scope=col>TCGA-KL-8333-01A</th><th scope=col>TCGA-KN-8421-01A</th><th scope=col>⋯</th><th scope=col>TCGA-BQ-7049-01A</th><th scope=col>TCGA-A4-8517-01A</th><th scope=col>TCGA-GL-7966-01A</th><th scope=col>TCGA-B9-A5W7-01A</th><th scope=col>TCGA-O9-A75Z-01A</th><th scope=col>TCGA-A4-8630-01A</th><th scope=col>TCGA-A4-7287-01A</th><th scope=col>TCGA-2Z-A9JS-01A</th><th scope=col>TCGA-B9-A5W8-01A</th><th scope=col>TCGA-HE-A5NK-01A</th></tr>\n",
              "</thead>\n",
              "<tbody>\n",
              "\t<tr><th scope=row>ENSG00000000003.15</th><td> 17.3893</td><td> 9.6741</td><td>27.4489</td><td> 6.2207</td><td>15.3781</td><td>99.5059</td><td>35.6438</td><td>34.6335</td><td>13.2803</td><td>12.6005</td><td>⋯</td><td> 24.4461</td><td>26.4247</td><td> 91.8787</td><td>67.1387</td><td> 32.7761</td><td>44.4680</td><td> 76.9411</td><td> 64.2397</td><td>41.6238</td><td>27.6946</td></tr>\n",
              "\t<tr><th scope=row>ENSG00000000005.6</th><td>  0.0000</td><td> 0.1011</td><td> 0.3794</td><td> 0.0458</td><td> 0.3184</td><td> 0.4429</td><td> 2.0935</td><td> 0.2865</td><td> 1.9366</td><td> 0.3796</td><td>⋯</td><td>  0.0326</td><td> 0.2792</td><td>  0.1570</td><td> 1.8001</td><td>  0.0421</td><td> 0.1903</td><td>  0.7620</td><td>  0.1830</td><td> 0.1193</td><td> 0.0719</td></tr>\n",
              "\t<tr><th scope=row>ENSG00000000419.13</th><td>124.3109</td><td>40.4987</td><td>32.5808</td><td>42.3603</td><td>74.1792</td><td>68.9986</td><td>87.0411</td><td>69.7603</td><td>94.4090</td><td>69.6067</td><td>⋯</td><td> 41.5567</td><td>50.3573</td><td>146.0781</td><td>67.6642</td><td> 68.6423</td><td>46.9092</td><td>106.8663</td><td>106.6303</td><td>59.4621</td><td>59.5989</td></tr>\n",
              "\t<tr><th scope=row>ENSG00000000938.13</th><td>  2.0287</td><td> 3.1555</td><td> 0.2392</td><td> 1.9185</td><td> 4.2617</td><td> 3.7473</td><td> 1.9878</td><td> 5.3659</td><td>13.1822</td><td> 0.6075</td><td>⋯</td><td> 13.3821</td><td>10.3567</td><td>  2.6272</td><td>23.1572</td><td> 18.8189</td><td> 4.7666</td><td> 18.1240</td><td>  5.5917</td><td>42.3647</td><td>29.8034</td></tr>\n",
              "\t<tr><th scope=row>ENSG00000000971.16</th><td>  1.0606</td><td> 0.7341</td><td> 0.7330</td><td> 0.8300</td><td>11.3033</td><td> 2.1427</td><td>20.2293</td><td> 6.4706</td><td>25.2874</td><td> 0.0983</td><td>⋯</td><td>238.8939</td><td> 1.5427</td><td> 71.5902</td><td> 1.0781</td><td>124.6195</td><td>24.9739</td><td> 56.9303</td><td>152.8452</td><td>14.4453</td><td> 7.6052</td></tr>\n",
              "</tbody>\n",
              "</table>\n"
            ],
            "text/markdown": "\nA matrix: 5 × 897 of type dbl\n\n| <!--/--> | TCGA-KL-8339-01A | TCGA-KO-8415-01A | TCGA-KL-8346-01A | TCGA-KM-8477-01A | TCGA-KL-8342-01A | TCGA-KM-8639-01A | TCGA-KO-8411-01A | TCGA-KN-8430-01A | TCGA-KL-8333-01A | TCGA-KN-8421-01A | ⋯ | TCGA-BQ-7049-01A | TCGA-A4-8517-01A | TCGA-GL-7966-01A | TCGA-B9-A5W7-01A | TCGA-O9-A75Z-01A | TCGA-A4-8630-01A | TCGA-A4-7287-01A | TCGA-2Z-A9JS-01A | TCGA-B9-A5W8-01A | TCGA-HE-A5NK-01A |\n|---|---|---|---|---|---|---|---|---|---|---|---|---|---|---|---|---|---|---|---|---|---|\n| ENSG00000000003.15 |  17.3893 |  9.6741 | 27.4489 |  6.2207 | 15.3781 | 99.5059 | 35.6438 | 34.6335 | 13.2803 | 12.6005 | ⋯ |  24.4461 | 26.4247 |  91.8787 | 67.1387 |  32.7761 | 44.4680 |  76.9411 |  64.2397 | 41.6238 | 27.6946 |\n| ENSG00000000005.6 |   0.0000 |  0.1011 |  0.3794 |  0.0458 |  0.3184 |  0.4429 |  2.0935 |  0.2865 |  1.9366 |  0.3796 | ⋯ |   0.0326 |  0.2792 |   0.1570 |  1.8001 |   0.0421 |  0.1903 |   0.7620 |   0.1830 |  0.1193 |  0.0719 |\n| ENSG00000000419.13 | 124.3109 | 40.4987 | 32.5808 | 42.3603 | 74.1792 | 68.9986 | 87.0411 | 69.7603 | 94.4090 | 69.6067 | ⋯ |  41.5567 | 50.3573 | 146.0781 | 67.6642 |  68.6423 | 46.9092 | 106.8663 | 106.6303 | 59.4621 | 59.5989 |\n| ENSG00000000938.13 |   2.0287 |  3.1555 |  0.2392 |  1.9185 |  4.2617 |  3.7473 |  1.9878 |  5.3659 | 13.1822 |  0.6075 | ⋯ |  13.3821 | 10.3567 |   2.6272 | 23.1572 |  18.8189 |  4.7666 |  18.1240 |   5.5917 | 42.3647 | 29.8034 |\n| ENSG00000000971.16 |   1.0606 |  0.7341 |  0.7330 |  0.8300 | 11.3033 |  2.1427 | 20.2293 |  6.4706 | 25.2874 |  0.0983 | ⋯ | 238.8939 |  1.5427 |  71.5902 |  1.0781 | 124.6195 | 24.9739 |  56.9303 | 152.8452 | 14.4453 |  7.6052 |\n\n",
            "text/latex": "A matrix: 5 × 897 of type dbl\n\\begin{tabular}{r|lllllllllllllllllllll}\n  & TCGA-KL-8339-01A & TCGA-KO-8415-01A & TCGA-KL-8346-01A & TCGA-KM-8477-01A & TCGA-KL-8342-01A & TCGA-KM-8639-01A & TCGA-KO-8411-01A & TCGA-KN-8430-01A & TCGA-KL-8333-01A & TCGA-KN-8421-01A & ⋯ & TCGA-BQ-7049-01A & TCGA-A4-8517-01A & TCGA-GL-7966-01A & TCGA-B9-A5W7-01A & TCGA-O9-A75Z-01A & TCGA-A4-8630-01A & TCGA-A4-7287-01A & TCGA-2Z-A9JS-01A & TCGA-B9-A5W8-01A & TCGA-HE-A5NK-01A\\\\\n\\hline\n\tENSG00000000003.15 &  17.3893 &  9.6741 & 27.4489 &  6.2207 & 15.3781 & 99.5059 & 35.6438 & 34.6335 & 13.2803 & 12.6005 & ⋯ &  24.4461 & 26.4247 &  91.8787 & 67.1387 &  32.7761 & 44.4680 &  76.9411 &  64.2397 & 41.6238 & 27.6946\\\\\n\tENSG00000000005.6 &   0.0000 &  0.1011 &  0.3794 &  0.0458 &  0.3184 &  0.4429 &  2.0935 &  0.2865 &  1.9366 &  0.3796 & ⋯ &   0.0326 &  0.2792 &   0.1570 &  1.8001 &   0.0421 &  0.1903 &   0.7620 &   0.1830 &  0.1193 &  0.0719\\\\\n\tENSG00000000419.13 & 124.3109 & 40.4987 & 32.5808 & 42.3603 & 74.1792 & 68.9986 & 87.0411 & 69.7603 & 94.4090 & 69.6067 & ⋯ &  41.5567 & 50.3573 & 146.0781 & 67.6642 &  68.6423 & 46.9092 & 106.8663 & 106.6303 & 59.4621 & 59.5989\\\\\n\tENSG00000000938.13 &   2.0287 &  3.1555 &  0.2392 &  1.9185 &  4.2617 &  3.7473 &  1.9878 &  5.3659 & 13.1822 &  0.6075 & ⋯ &  13.3821 & 10.3567 &   2.6272 & 23.1572 &  18.8189 &  4.7666 &  18.1240 &   5.5917 & 42.3647 & 29.8034\\\\\n\tENSG00000000971.16 &   1.0606 &  0.7341 &  0.7330 &  0.8300 & 11.3033 &  2.1427 & 20.2293 &  6.4706 & 25.2874 &  0.0983 & ⋯ & 238.8939 &  1.5427 &  71.5902 &  1.0781 & 124.6195 & 24.9739 &  56.9303 & 152.8452 & 14.4453 &  7.6052\\\\\n\\end{tabular}\n",
            "text/plain": [
              "                   TCGA-KL-8339-01A TCGA-KO-8415-01A TCGA-KL-8346-01A\n",
              "ENSG00000000003.15  17.3893          9.6741          27.4489         \n",
              "ENSG00000000005.6    0.0000          0.1011           0.3794         \n",
              "ENSG00000000419.13 124.3109         40.4987          32.5808         \n",
              "ENSG00000000938.13   2.0287          3.1555           0.2392         \n",
              "ENSG00000000971.16   1.0606          0.7341           0.7330         \n",
              "                   TCGA-KM-8477-01A TCGA-KL-8342-01A TCGA-KM-8639-01A\n",
              "ENSG00000000003.15  6.2207          15.3781          99.5059         \n",
              "ENSG00000000005.6   0.0458           0.3184           0.4429         \n",
              "ENSG00000000419.13 42.3603          74.1792          68.9986         \n",
              "ENSG00000000938.13  1.9185           4.2617           3.7473         \n",
              "ENSG00000000971.16  0.8300          11.3033           2.1427         \n",
              "                   TCGA-KO-8411-01A TCGA-KN-8430-01A TCGA-KL-8333-01A\n",
              "ENSG00000000003.15 35.6438          34.6335          13.2803         \n",
              "ENSG00000000005.6   2.0935           0.2865           1.9366         \n",
              "ENSG00000000419.13 87.0411          69.7603          94.4090         \n",
              "ENSG00000000938.13  1.9878           5.3659          13.1822         \n",
              "ENSG00000000971.16 20.2293           6.4706          25.2874         \n",
              "                   TCGA-KN-8421-01A ⋯ TCGA-BQ-7049-01A TCGA-A4-8517-01A\n",
              "ENSG00000000003.15 12.6005          ⋯  24.4461         26.4247         \n",
              "ENSG00000000005.6   0.3796          ⋯   0.0326          0.2792         \n",
              "ENSG00000000419.13 69.6067          ⋯  41.5567         50.3573         \n",
              "ENSG00000000938.13  0.6075          ⋯  13.3821         10.3567         \n",
              "ENSG00000000971.16  0.0983          ⋯ 238.8939          1.5427         \n",
              "                   TCGA-GL-7966-01A TCGA-B9-A5W7-01A TCGA-O9-A75Z-01A\n",
              "ENSG00000000003.15  91.8787         67.1387           32.7761        \n",
              "ENSG00000000005.6    0.1570          1.8001            0.0421        \n",
              "ENSG00000000419.13 146.0781         67.6642           68.6423        \n",
              "ENSG00000000938.13   2.6272         23.1572           18.8189        \n",
              "ENSG00000000971.16  71.5902          1.0781          124.6195        \n",
              "                   TCGA-A4-8630-01A TCGA-A4-7287-01A TCGA-2Z-A9JS-01A\n",
              "ENSG00000000003.15 44.4680           76.9411          64.2397        \n",
              "ENSG00000000005.6   0.1903            0.7620           0.1830        \n",
              "ENSG00000000419.13 46.9092          106.8663         106.6303        \n",
              "ENSG00000000938.13  4.7666           18.1240           5.5917        \n",
              "ENSG00000000971.16 24.9739           56.9303         152.8452        \n",
              "                   TCGA-B9-A5W8-01A TCGA-HE-A5NK-01A\n",
              "ENSG00000000003.15 41.6238          27.6946         \n",
              "ENSG00000000005.6   0.1193           0.0719         \n",
              "ENSG00000000419.13 59.4621          59.5989         \n",
              "ENSG00000000938.13 42.3647          29.8034         \n",
              "ENSG00000000971.16 14.4453           7.6052         "
            ]
          },
          "metadata": {}
        }
      ]
    },
    {
      "cell_type": "code",
      "source": [
        "write.csv(expr_filtered, \"filtered_expr.csv\")"
      ],
      "metadata": {
        "id": "fD-0xUCBT_oX"
      },
      "execution_count": 23,
      "outputs": []
    },
    {
      "cell_type": "code",
      "source": [
        "labels <- data.frame(project_id = df@colData@listData$name)\n",
        "head(labels, 5)"
      ],
      "metadata": {
        "colab": {
          "base_uri": "https://localhost:8080/",
          "height": 255
        },
        "id": "8CQ0Fc0XUPfc",
        "outputId": "bfa87ce0-e7a8-40ce-aa84-cc7dfe0a289a"
      },
      "execution_count": 24,
      "outputs": [
        {
          "output_type": "display_data",
          "data": {
            "text/html": [
              "<table class=\"dataframe\">\n",
              "<caption>A data.frame: 5 × 1</caption>\n",
              "<thead>\n",
              "\t<tr><th></th><th scope=col>project_id</th></tr>\n",
              "\t<tr><th></th><th scope=col>&lt;chr&gt;</th></tr>\n",
              "</thead>\n",
              "<tbody>\n",
              "\t<tr><th scope=row>1</th><td>Kidney Chromophobe</td></tr>\n",
              "\t<tr><th scope=row>2</th><td>Kidney Chromophobe</td></tr>\n",
              "\t<tr><th scope=row>3</th><td>Kidney Chromophobe</td></tr>\n",
              "\t<tr><th scope=row>4</th><td>Kidney Chromophobe</td></tr>\n",
              "\t<tr><th scope=row>5</th><td>Kidney Chromophobe</td></tr>\n",
              "</tbody>\n",
              "</table>\n"
            ],
            "text/markdown": "\nA data.frame: 5 × 1\n\n| <!--/--> | project_id &lt;chr&gt; |\n|---|---|\n| 1 | Kidney Chromophobe |\n| 2 | Kidney Chromophobe |\n| 3 | Kidney Chromophobe |\n| 4 | Kidney Chromophobe |\n| 5 | Kidney Chromophobe |\n\n",
            "text/latex": "A data.frame: 5 × 1\n\\begin{tabular}{r|l}\n  & project\\_id\\\\\n  & <chr>\\\\\n\\hline\n\t1 & Kidney Chromophobe\\\\\n\t2 & Kidney Chromophobe\\\\\n\t3 & Kidney Chromophobe\\\\\n\t4 & Kidney Chromophobe\\\\\n\t5 & Kidney Chromophobe\\\\\n\\end{tabular}\n",
            "text/plain": [
              "  project_id        \n",
              "1 Kidney Chromophobe\n",
              "2 Kidney Chromophobe\n",
              "3 Kidney Chromophobe\n",
              "4 Kidney Chromophobe\n",
              "5 Kidney Chromophobe"
            ]
          },
          "metadata": {}
        }
      ]
    },
    {
      "cell_type": "code",
      "source": [
        "write.csv(labels, \"labels.csv\")"
      ],
      "metadata": {
        "id": "zE0Eb1ocWAfm"
      },
      "execution_count": 25,
      "outputs": []
    },
    {
      "cell_type": "code",
      "source": [
        " #df@colData@listData"
      ],
      "metadata": {
        "id": "7tRiMCDqJf7c"
      },
      "execution_count": 26,
      "outputs": []
    },
    {
      "cell_type": "code",
      "source": [],
      "metadata": {
        "id": "1mTfOr_rVc20"
      },
      "execution_count": 27,
      "outputs": []
    }
  ]
}